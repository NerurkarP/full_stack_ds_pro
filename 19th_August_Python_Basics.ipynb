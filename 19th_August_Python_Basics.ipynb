{
 "cells": [
  {
   "cell_type": "markdown",
   "id": "6599d8ee-2932-4cbc-ac19-9bbc32e7362c",
   "metadata": {},
   "source": [
    "###  Python Basics Variable"
   ]
  },
  {
   "cell_type": "code",
   "execution_count": null,
   "id": "63400f8d-f106-40c6-a93c-2737a40d2d1d",
   "metadata": {},
   "outputs": [],
   "source": [
    "''' \n",
    "1. Declare two variables, `x` and `y`, and assign them integer values. Swap the\n",
    "values of these variables without using any temporary variable. \n",
    "\n",
    "'''\n",
    "x = 10\n",
    "y = 20 \n",
    "\n",
    "print (f\"Before swapping the value of x = {x} and the value of y = {y} \")\n",
    "\n",
    "x, y = y, x\n",
    "\n",
    "print (f\"After swapping the value of x = {x} and the value of y = {y} \")\n",
    "\n"
   ]
  },
  {
   "cell_type": "code",
   "execution_count": null,
   "id": "7ea01dc3-6985-4ab1-909b-baabe2fbebd0",
   "metadata": {},
   "outputs": [],
   "source": [
    "'''\n",
    "2. Create a program that calculates the area of a rectangle. Take the length and\n",
    "width as inputs from the user and store them in variables. Calculate and\n",
    "display the area.\n",
    "'''\n",
    "\n",
    "l = int(input(\"Please enter the length of the rectangle\"))\n",
    "w = int(input(\"Please enter the width of the rectangle\"))\n",
    "\n",
    "area = l*w\n",
    "\n",
    "print(f\"The area of the rectangle is: {area} \")  \n",
    "\n"
   ]
  },
  {
   "cell_type": "code",
   "execution_count": null,
   "id": "8b9ff89a-cafe-43df-b526-8993f0c77834",
   "metadata": {},
   "outputs": [],
   "source": [
    "'''\n",
    "3. Write a Python program that converts temperatures from Celsius to\n",
    "Fahrenheit. Take the temperature in Celsius as input, store it in a variable,\n",
    "convert it to Fahrenheit, and display the result.\n",
    "\n",
    "'''\n",
    "\n",
    "celsius = float(input(\"Please enter the temperature in Celsius :\"))\n",
    "\n",
    "\n",
    "fahrenheit = celsius * 1.8 + 32\n",
    "\n",
    "print(f\" {celsius}C converted to fahrenheit returns {fahrenheit}F\")\n"
   ]
  },
  {
   "cell_type": "markdown",
   "id": "987e1fee-8dc1-4f48-aca5-af26b5ec9f60",
   "metadata": {},
   "source": [
    "### String Based Questions"
   ]
  },
  {
   "cell_type": "code",
   "execution_count": null,
   "id": "75af68bd-b1c9-4601-a14b-0ee7d274ecd7",
   "metadata": {},
   "outputs": [],
   "source": [
    "'''\n",
    "1. Write a Python program that takes a string as input and prints the length of\n",
    "the string.\n",
    "'''\n",
    "s1 = str(input(\"Please enter the string to calculate its length  :\"))\n",
    "\n",
    "length = len(s1)\n",
    "print(f\" The number of vowels in the input string are {length}\")\n",
    "\n",
    "\n"
   ]
  },
  {
   "cell_type": "code",
   "execution_count": null,
   "id": "aa5d0ab5-02b7-4d4b-9606-af5e72129a25",
   "metadata": {},
   "outputs": [],
   "source": [
    "'''\n",
    "2. Create a program that takes a sentence from the user and counts the number\n",
    "of vowels (a, e, i, o, u) in the string.\n",
    "'''\n",
    "\n",
    "input_str = str(input(\"Please enter the string to calculate the number of vowels  :\"))\n",
    "\n",
    "vowels = (\"a\", \"e\", \"i\", \"o\", \"u\", \"A\", \"E\", \"I\", \"O\", \"U\" )\n",
    "\n",
    "print(f\"User input is {input_str}\")\n",
    "ctr = 0\n",
    "for char in input_str:\n",
    "    if char in vowels:\n",
    "        ctr += 1\n",
    "        \n",
    "\n",
    "print(f\" The number of vowels in the input string are {ctr}\")\n"
   ]
  },
  {
   "cell_type": "code",
   "execution_count": 1,
   "id": "b84be622-ba43-4d09-9b57-4589d4b1103b",
   "metadata": {},
   "outputs": [
    {
     "name": "stdin",
     "output_type": "stream",
     "text": [
      "Enter the string to reverse it : pallavi\n"
     ]
    },
    {
     "name": "stdout",
     "output_type": "stream",
     "text": [
      " The reversed string is ivallap\n"
     ]
    }
   ],
   "source": [
    "'''\n",
    "3. Given a string, reverse the order of characters using string slicing and print\n",
    "the reversed string.\n",
    "'''\n",
    "s2 = str(input(\"Enter the string to reverse it :\"))\n",
    "\n",
    "reverse_s2 = s2[::-1]\n",
    "\n",
    "print(f\" The reversed string is {reverse_s2}\")\n",
    "\n"
   ]
  },
  {
   "cell_type": "code",
   "execution_count": 3,
   "id": "dfc2e34f-2442-4603-be65-38f4b9650cda",
   "metadata": {},
   "outputs": [
    {
     "name": "stdin",
     "output_type": "stream",
     "text": [
      "Enter the string to reverse it : pallavi\n"
     ]
    },
    {
     "name": "stdout",
     "output_type": "stream",
     "text": [
      " The reversed string is ivallap\n",
      " The input string is not a palindrome\n"
     ]
    }
   ],
   "source": [
    "'''\n",
    "4. Write a program that takes a string as input and checks if it is a palindrome\n",
    "(reads the same forwards and backwards).\n",
    "'''\n",
    "s3 = str(input(\"Enter the string to reverse it :\"))\n",
    "\n",
    "reversed_s3 = s3[::-1]\n",
    "\n",
    "print(f\" The reversed string is {reversed_s3}\") \n",
    "\n",
    "if s3 == reversed_s3:\n",
    "    print(\" The input string is a palindrome\")\n",
    "else:\n",
    "    print(\" The input string is not a palindrome\")\n",
    "    "
   ]
  },
  {
   "cell_type": "code",
   "execution_count": 4,
   "id": "289cfcdb-c4ab-4242-a8ef-7bb05fadea73",
   "metadata": {},
   "outputs": [
    {
     "name": "stdin",
     "output_type": "stream",
     "text": [
      "Enter the string to remove its spaces : I am the king.\n"
     ]
    },
    {
     "name": "stdout",
     "output_type": "stream",
     "text": [
      " After removing all the spaces the string is Iamtheking.\n"
     ]
    }
   ],
   "source": [
    "'''\n",
    "5. Create a program that takes a string as input and removes all the spaces from\n",
    "it. Print the modified string without spaces.\n",
    "'''\n",
    "\n",
    "s4 = str(input(\"Enter the string to remove its spaces :\"))\n",
    "\n",
    "s4_space_removed = s4.replace(\" \",\"\")\n",
    "\n",
    "print(f\" After removing all the spaces the string is {s4_space_removed}\")\n"
   ]
  },
  {
   "cell_type": "code",
   "execution_count": null,
   "id": "062601e5-d3bc-4ae0-aa5e-19e8ba7ea584",
   "metadata": {},
   "outputs": [],
   "source": []
  }
 ],
 "metadata": {
  "kernelspec": {
   "display_name": "Python 3 (ipykernel)",
   "language": "python",
   "name": "python3"
  },
  "language_info": {
   "codemirror_mode": {
    "name": "ipython",
    "version": 3
   },
   "file_extension": ".py",
   "mimetype": "text/x-python",
   "name": "python",
   "nbconvert_exporter": "python",
   "pygments_lexer": "ipython3",
   "version": "3.10.8"
  }
 },
 "nbformat": 4,
 "nbformat_minor": 5
}
